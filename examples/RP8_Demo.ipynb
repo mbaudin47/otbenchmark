{
 "cells": [
  {
   "cell_type": "markdown",
   "metadata": {},
   "source": [
    "# Problem RP8 \n",
    "## In this Notebook, we present the RP8 problem of BBRC 2019 using the FORM SORM method and the Monte Carlo method"
   ]
  },
  {
   "cell_type": "code",
   "execution_count": 1,
   "metadata": {},
   "outputs": [],
   "source": [
    "import openturns as ot\n",
    "import numpy as np"
   ]
  },
  {
   "cell_type": "markdown",
   "metadata": {},
   "source": [
    "We define the parameters of the inputs"
   ]
  },
  {
   "cell_type": "code",
   "execution_count": 2,
   "metadata": {},
   "outputs": [],
   "source": [
    "parameters1 = ot.LogNormalMuSigma(120, 12, 0.0)\n",
    "X1 = ot.ParametrizedDistribution(parameters1)\n",
    "\n",
    "parameters2 = ot.LogNormalMuSigma(120, 12, 0.0)\n",
    "X2 = ot.ParametrizedDistribution(parameters2)\n",
    "\n",
    "parameters3 = ot.LogNormalMuSigma(120, 12, 0.0)\n",
    "X3 = ot.ParametrizedDistribution(parameters3)\n",
    "\n",
    "parameters4 = ot.LogNormalMuSigma(120, 12, 0.0)\n",
    "X4 = ot.ParametrizedDistribution(parameters4)\n",
    "\n",
    "parameters5 = ot.LogNormalMuSigma(50, 10, 0.0)\n",
    "X5 = ot.ParametrizedDistribution(parameters5)\n",
    "\n",
    "parameters6 = ot.LogNormalMuSigma(40, 8, 0.0)\n",
    "X6 = ot.ParametrizedDistribution(parameters6)"
   ]
  },
  {
   "cell_type": "code",
   "execution_count": 3,
   "metadata": {},
   "outputs": [],
   "source": [
    "Y = X1 + 2 * X2 + 2 * X3 + X4 - 5 * X5 - 5 * X6"
   ]
  },
  {
   "cell_type": "code",
   "execution_count": 4,
   "metadata": {},
   "outputs": [
    {
     "data": {
      "text/plain": [
       "0.0007897927545598295"
      ]
     },
     "execution_count": 4,
     "metadata": {},
     "output_type": "execute_result"
    }
   ],
   "source": [
    "Y.computeCDF(0.0)"
   ]
  },
  {
   "cell_type": "markdown",
   "metadata": {},
   "source": [
    "We are dealing with the following cases "
   ]
  },
  {
   "cell_type": "markdown",
   "metadata": {},
   "source": [
    "$\n",
    "\\left\\{\n",
    "    \\begin{array}{ll}\n",
    "        g(X) = X_1 + 2X_2 + 2X_3 +X_4 - 5X_5 - 5X_6  \\\\\n",
    "        g(X) = 0 \\\\\n",
    "        X_2 = 0 \\\\ \n",
    "        X_3 = 0 \\\\\n",
    "        X_4 = 0 \\\\\n",
    "        X_6 = 0\n",
    "    \\end{array}\n",
    "\\right.\n",
    "$\n",
    "$\n",
    "\\\\\n"
   ]
  },
  {
   "cell_type": "markdown",
   "metadata": {},
   "source": [
    "\n",
    "We transform the inputs X1 and X5 in the standard space\n",
    "\n",
    "\n",
    "$\n",
    "\\left\\{\n",
    "    \\begin{array}{ll}\n",
    "        g(X) = X_1 - 5X_5  \\\\\n",
    "        g(X) = 0 \n",
    "        \\\\\n",
    "    \\end{array}\n",
    "\\right.\n",
    "$\n",
    "\n",
    "On pose :\n",
    "\n",
    "$\n",
    "\\left\\{\n",
    "    \\begin{array}{ll}\n",
    "        R = X_1   \\\\\n",
    "        S = 5X_5 \n",
    "        \\\\\n",
    "    \\end{array}\n",
    "\\right.\n",
    "$\n",
    "\n",
    "\n",
    "\n",
    "We do the transformation in standard space:\n",
    "\n",
    "$\n",
    "\\left\\{\n",
    "    \\begin{array}{ll}\n",
    "        R = X_1   \\\\\n",
    "        S = 5X_5 \n",
    "        \\\\\n",
    "    \\end{array}\n",
    "\\right.\n",
    "$\n",
    "$\n",
    "\\\\\n",
    "\\Rightarrow\n",
    "\\\\\n",
    "$\n",
    "$\n",
    "\\left\\{\n",
    "    \\begin{array}{ll}\n",
    "        U = \\frac{R-mu_R}{\\sigma_R}   \\\\\n",
    "        V = \\frac{S-mu_S}{\\sigma_S}\n",
    "        \\\\\n",
    "    \\end{array}\n",
    "\\right.\n",
    "$"
   ]
  },
  {
   "cell_type": "code",
   "execution_count": 5,
   "metadata": {},
   "outputs": [],
   "source": [
    "\n",
    "mu1 = X1.getMean()[0]\n",
    "mu5 = X5.getMean()[0]\n",
    "\n",
    "sigma1 = X1.getStandardDeviation()[0]\n",
    "sigma5 = X5.getStandardDeviation()[0]"
   ]
  },
  {
   "cell_type": "code",
   "execution_count": 6,
   "metadata": {},
   "outputs": [],
   "source": [
    "U1 = (X1 - mu1) / sigma1\n",
    "U2 = (X5 - mu5) / sigma5"
   ]
  },
  {
   "cell_type": "code",
   "execution_count": 7,
   "metadata": {},
   "outputs": [],
   "source": [
    "x1 = U1.getSample(5000)\n",
    "y1 = U2.getSample(5000)"
   ]
  },
  {
   "cell_type": "markdown",
   "metadata": {},
   "source": [
    "We declare two circles of iso-probable\n",
    "\n",
    "$f_{R S}(u, v)=\\frac{1}{2 \\pi \\sigma_{R} \\sigma_{s}} \\exp \\left\\{-\\frac{1}{2}\\left[u^{2}+v^{2}\\right]\\right\\}$"
   ]
  },
  {
   "cell_type": "markdown",
   "metadata": {},
   "source": [
    "We calculate the radii of the iso-probable curves for two constants\n",
    "$\\alpha1 = 0.00001$ et $\\alpha2 = 0.000001$ \n",
    "\n",
    "$f_{R S}(u, v) = \\alpha1$ \n",
    "\n",
    "$f_{R S}(u, v) = \\alpha2$ "
   ]
  },
  {
   "cell_type": "code",
   "execution_count": 8,
   "metadata": {},
   "outputs": [],
   "source": [
    "alpha1 = 0.00001\n",
    "alpha2 = 0.000001"
   ]
  },
  {
   "cell_type": "markdown",
   "metadata": {},
   "source": [
    "The rays of circles :\n",
    "$r^2  = u^2+ v^2$"
   ]
  },
  {
   "cell_type": "code",
   "execution_count": 9,
   "metadata": {},
   "outputs": [],
   "source": [
    "p = -2 * np.log(2 * np.pi * alpha1 * 5 * sigma1 * sigma5)\n",
    "q = -2 * np.log(2 * np.pi * alpha2 * 5 * sigma1 * sigma5)"
   ]
  },
  {
   "cell_type": "code",
   "execution_count": 10,
   "metadata": {},
   "outputs": [],
   "source": [
    "theta = np.linspace(0, 2 * np.pi, 100)\n",
    "\n",
    "rp = np.sqrt(p)\n",
    "\n",
    "xp = rp * np.cos(theta)\n",
    "yp = rp * np.sin(theta)\n",
    "\n",
    "rq = np.sqrt(q)\n",
    "\n",
    "xq = rq * np.cos(theta)\n",
    "yq = rq * np.sin(theta)"
   ]
  },
  {
   "cell_type": "markdown",
   "metadata": {},
   "source": [
    "We defended the function de $g(x)=0$ \n",
    "\n",
    "So :\n",
    "\n",
    "$g=G(u, v)=\\sigma_{R} u-\\sigma_{S} v+\\left(\\mu_{R}-\\mu_{S}\\right)$"
   ]
  },
  {
   "cell_type": "code",
   "execution_count": 11,
   "metadata": {},
   "outputs": [],
   "source": [
    "def h(x):\n",
    "    m = (sigma1 * x + (5 * mu5 - mu1)) / (5 * sigma5)\n",
    "    return m"
   ]
  },
  {
   "cell_type": "code",
   "execution_count": 12,
   "metadata": {},
   "outputs": [],
   "source": [
    "x2 = np.arange(-5, 15, 1)\n",
    "\n",
    "y2 = h(x2)"
   ]
  },
  {
   "cell_type": "code",
   "execution_count": 13,
   "metadata": {},
   "outputs": [
    {
     "data": {
      "text/plain": [
       "<Figure size 1100x1100 with 1 Axes>"
      ]
     },
     "metadata": {},
     "output_type": "display_data"
    }
   ],
   "source": [
    "import matplotlib.pyplot as plt\n",
    "\n",
    "plt.figure(figsize=(11, 11))\n",
    "plt.scatter(x1, y1, c=\"green\", marker=\".\", label=\" v en fonction de u \")\n",
    "plt.plot(xq, yq, c=\"green\", label=\" la densité conjointe est constante = alpha 1\")\n",
    "plt.plot(x2, y2, label=\"g(x)=x1-5*x5, x2=x3=x4=x6=0\")\n",
    "plt.plot(xp, yp, c=\"red\", label=\" la densité conjointe est constante = alpha2\")\n",
    "plt.xlabel(\" u \")\n",
    "plt.ylabel(\" v \")\n",
    "plt.title(\" Courbe de g(x) et les courbes iso-probables\")\n",
    "plt.legend(loc=\"best\")\n",
    "plt.show()"
   ]
  },
  {
   "cell_type": "markdown",
   "metadata": {},
   "source": [
    "Nous définissons la fonction de performance "
   ]
  },
  {
   "cell_type": "code",
   "execution_count": 14,
   "metadata": {},
   "outputs": [],
   "source": [
    "def f(x):\n",
    "    g = x[0] + 2 * x[1] + 2 * x[2] + x[3] - 5 * x[4] - 5 * x[5]\n",
    "    y = [g]\n",
    "    return y"
   ]
  },
  {
   "cell_type": "code",
   "execution_count": 15,
   "metadata": {},
   "outputs": [],
   "source": [
    "myDistribution = ot.ComposedDistribution([X1, X2, X3, X4, X5, X6])"
   ]
  },
  {
   "cell_type": "code",
   "execution_count": 16,
   "metadata": {},
   "outputs": [],
   "source": [
    "mu = myDistribution.getMean()"
   ]
  },
  {
   "cell_type": "code",
   "execution_count": 17,
   "metadata": {},
   "outputs": [],
   "source": [
    "myFunction = ot.PythonFunction(6, 1, f)"
   ]
  },
  {
   "cell_type": "code",
   "execution_count": 18,
   "metadata": {},
   "outputs": [],
   "source": [
    "vect = ot.RandomVector(myDistribution)\n",
    "output = ot.CompositeRandomVector(myFunction, vect)\n",
    "event = ot.ThresholdEvent(output, ot.Less(), 0)"
   ]
  },
  {
   "cell_type": "code",
   "execution_count": 19,
   "metadata": {},
   "outputs": [],
   "source": [
    "# Methode FORM\n",
    "solver = ot.AbdoRackwitz()\n",
    "algo = ot.FORM(solver, event, mu)\n",
    "algo.run()\n",
    "result = algo.getResult()"
   ]
  },
  {
   "cell_type": "code",
   "execution_count": 20,
   "metadata": {},
   "outputs": [
    {
     "data": {
      "text/plain": [
       "0.0006598990293279676"
      ]
     },
     "execution_count": 20,
     "metadata": {},
     "output_type": "execute_result"
    }
   ],
   "source": [
    "result.getEventProbability()"
   ]
  },
  {
   "cell_type": "code",
   "execution_count": 21,
   "metadata": {},
   "outputs": [
    {
     "data": {
      "text/plain": [
       "93"
      ]
     },
     "execution_count": 21,
     "metadata": {},
     "output_type": "execute_result"
    }
   ],
   "source": [
    "# Nombre d'appel à la fonction f\n",
    "myFunction.getEvaluationCallsNumber()"
   ]
  },
  {
   "cell_type": "code",
   "execution_count": 22,
   "metadata": {},
   "outputs": [
    {
     "data": {
      "image/png": "[encoded data removed]",
      "text/plain": [
       "class=Graph name=Unnamed implementation=class=GraphImplementation name=Unnamed title=Importance Factors from Design Point - Unnamed xTitle= yTitle= axes=OFF grid=OFF legendposition= legendFontSize=1 drawables=[class=Drawable name=Unnamed implementation=class=Pie name=Unnamed labels=[X0 : 1.3%,X1 : 4.7%,X2 : 4.7%,X3 : 1.3%,X4 : 59.9%,X5 : 28.2%] radius=1 center=class=Point name=Unnamed dimension=2 values=[0,0] color palette=[#ff0000,#ffdb00,#49ff00,#00ff92,#0092ff,#4900ff] derived from class=DrawableImplementation name=Unnamed legend= data=class=Sample name=Unnamed implementation=class=SampleImplementation name=Unnamed size=6 dimension=1 data=[[0.0125452],[0.046927],[0.046927],[0.0125452],[0.599462],[0.281594]] color=blue fillStyle=solid lineStyle=solid pointStyle=plus lineWidth=1]"
      ]
     },
     "execution_count": 22,
     "metadata": {},
     "output_type": "execute_result"
    }
   ],
   "source": [
    "result.drawImportanceFactors()"
   ]
  },
  {
   "cell_type": "code",
   "execution_count": 23,
   "metadata": {},
   "outputs": [],
   "source": [
    "# Méthode importance sampling\n",
    "standardSpaceDesignPoint = result.getStandardSpaceDesignPoint()\n",
    "myImportance = ot.Normal(standardSpaceDesignPoint, [1.0] * 6, ot.CorrelationMatrix(6))\n",
    "experiment = ot.ImportanceSamplingExperiment(myImportance)\n",
    "algo = ot.ProbabilitySimulationAlgorithm(ot.StandardEvent(event), experiment)\n",
    "algo.setMaximumCoefficientOfVariation(0.1)\n",
    "algo.setMaximumOuterSampling(40000)\n",
    "algo.setConvergenceStrategy(ot.Full())\n",
    "algo.run()"
   ]
  },
  {
   "cell_type": "code",
   "execution_count": 24,
   "metadata": {},
   "outputs": [
    {
     "data": {
      "text/plain": [
       "0.0007864805264978173"
      ]
     },
     "execution_count": 24,
     "metadata": {},
     "output_type": "execute_result"
    }
   ],
   "source": [
    "result = algo.getResult()\n",
    "result.getProbabilityEstimate()"
   ]
  },
  {
   "cell_type": "code",
   "execution_count": 25,
   "metadata": {},
   "outputs": [
    {
     "data": {
      "text/plain": [
       "490"
      ]
     },
     "execution_count": 25,
     "metadata": {},
     "output_type": "execute_result"
    }
   ],
   "source": [
    "# Nombre d'appel à la fonction f\n",
    "myFunction.getEvaluationCallsNumber()"
   ]
  },
  {
   "cell_type": "code",
   "execution_count": 26,
   "metadata": {},
   "outputs": [],
   "source": [
    "# Méthode SORM\n",
    "solver = ot.AbdoRackwitz()\n",
    "algo = ot.SORM(solver, event, mu)\n",
    "algo.run()\n",
    "result = algo.getResult()"
   ]
  },
  {
   "cell_type": "code",
   "execution_count": 27,
   "metadata": {},
   "outputs": [
    {
     "data": {
      "text/plain": [
       "0.0007837001404406786"
      ]
     },
     "execution_count": 27,
     "metadata": {},
     "output_type": "execute_result"
    }
   ],
   "source": [
    "result.getEventProbabilityBreitung()"
   ]
  },
  {
   "cell_type": "code",
   "execution_count": 28,
   "metadata": {},
   "outputs": [
    {
     "data": {
      "text/plain": [
       "680"
      ]
     },
     "execution_count": 28,
     "metadata": {},
     "output_type": "execute_result"
    }
   ],
   "source": [
    "# Nombre d'appel à la fonction f\n",
    "myFunction.getEvaluationCallsNumber()"
   ]
  },
  {
   "cell_type": "code",
   "execution_count": 29,
   "metadata": {},
   "outputs": [],
   "source": [
    "# Méthode de Monte Carlo\n",
    "experiment = ot.MonteCarloExperiment()\n",
    "algo = ot.ProbabilitySimulationAlgorithm(event, experiment)\n",
    "algo.setMaximumCoefficientOfVariation(0.05)\n",
    "algo.setMaximumOuterSampling(int(1e5))\n",
    "algo.run()\n",
    "result = algo.getResult()\n",
    "probability = result.getProbabilityEstimate()"
   ]
  },
  {
   "cell_type": "code",
   "execution_count": 30,
   "metadata": {},
   "outputs": [
    {
     "data": {
      "text/plain": [
       "0.0007700000000000091"
      ]
     },
     "execution_count": 30,
     "metadata": {},
     "output_type": "execute_result"
    }
   ],
   "source": [
    "probability"
   ]
  },
  {
   "cell_type": "code",
   "execution_count": 31,
   "metadata": {},
   "outputs": [
    {
     "data": {
      "text/plain": [
       "100680"
      ]
     },
     "execution_count": 31,
     "metadata": {},
     "output_type": "execute_result"
    }
   ],
   "source": [
    "# Nombre d'appel à la fonction\n",
    "myFunction.getEvaluationCallsNumber()"
   ]
  },
  {
   "cell_type": "code",
   "execution_count": null,
   "metadata": {},
   "outputs": [],
   "source": []
  }
 ],
 "metadata": {
  "kernelspec": {
   "display_name": "Python 3",
   "language": "python",
   "name": "python3"
  },
  "language_info": {
   "codemirror_mode": {
    "name": "ipython",
    "version": 3
   },
   "file_extension": ".py",
   "mimetype": "text/x-python",
   "name": "python",
   "nbconvert_exporter": "python",
   "pygments_lexer": "ipython3",
   "version": "3.7.4"
  }
 },
 "nbformat": 4,
 "nbformat_minor": 2
}
