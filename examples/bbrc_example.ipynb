{
 "cells": [
  {
   "cell_type": "markdown",
   "metadata": {},
   "source": [
    "# Benchmark EDF R&D "
   ]
  },
  {
   "cell_type": "code",
   "execution_count": 1,
   "metadata": {},
   "outputs": [],
   "source": [
    "import openturns as ot\n",
    "import numpy as np\n",
    "import otbenchmark as otb"
   ]
  },
  {
   "cell_type": "code",
   "execution_count": 2,
   "metadata": {},
   "outputs": [],
   "source": [
    "import openturns.viewer as otv\n",
    "import numpy as np\n",
    "import matplotlib.pyplot as plt\n",
    "import pylab as pl"
   ]
  },
  {
   "cell_type": "markdown",
   "metadata": {},
   "source": [
    "We present the BBRC test cases using the otbenchmark module"
   ]
  },
  {
   "cell_type": "code",
   "execution_count": 3,
   "metadata": {
    "scrolled": true
   },
   "outputs": [
    {
     "name": "stdout",
     "output_type": "stream",
     "text": [
      "x1 + 2 * x2 + 2 * x3 + x4 - 5 * x5 - 5 * x6\n",
      "x1 - 32 / (pi * x2^3) * sqrt(x3^2 * x4^2 / 10 + x5^2)\n",
      "2.5 - 1 / sqrt(2) * (x1 + x2) + 0.1 * (x1 - x2) ^2\n",
      "2.5 - 0.2357 * (x1 - x2) + 0.00463 * (x1 + x2 - 20)^4\n",
      "var g1 := x1^2 -8 * x2 + 16;var g2 := -16 * x1 + x2 + 32;gsys := max(g1, g2)\n",
      " x1 * x2 - 146.14 \n",
      "2 - x2 + 256 * x1^4\n",
      "min(-x1 - x2 - x3 + 3 * sqrt(3), -x3 + 3)\n",
      "var g1 := 2 - x2 + exp(-0.1 * x1^2) + (0.2 * x1) ^ 4;var g2 := 4.5 - x1 * x2;gsys := min(g1, g2)\n",
      "15.59*1e4 - x1*x2^3/(2*x3^3) *((x4^2-4*x5*x6*x7^2+x4*(x6+4*x5+2*x6*x7))/(x4*x5*(x4+x6+2*x6*x7)))\n",
      "sin(5 * x1 / 2) + 2 - ( x1 * x1 + 4 ) * ( x2 - 1 ) / 20\n",
      "var g1 := 0.2 + 0.6 * (x0 - x1)^4 - (x0 - x1) / sqrt(2);var g2 := 0.2 + 0.6 * (x0 - x1)^4 + (x0 - x1) / sqrt(2);var g3 := (x0 - x1) + 5 / sqrt(2) - 2.2;var g4 := (x1 - x0) + 5 / sqrt(2) - 2.2;gsys := min(g1, g2, g3, g4)\n",
      "var g1 := -x1^2 + x2^3 + 3;var g2 := 2 - x1 - 8 * x2;var g3 := (x1 + 3)^2 + (x2 + 3)^2 - 4;gsys := min(max(g1, g2), g3) \n",
      "3 - x1 * x2\n",
      "var g1 := -x1^2 - x2 + 8;var g2 := -x1 / 5 - x2 + 6;gsys := min(g1, g2)\n",
      "5*sqrt(10)-(x1 + x2 + x3 + x4 + x5 + x6 + x7 + x8 + x9 + x10)\n",
      "if (x0 <= 3.5)\n",
      "var g1 := 0.85 - 0.1 * x0;\n",
      "else\n",
      "  g1 := 4 - x0;\n",
      "if (x1 <= 2.0)\n",
      "  var g2 := 2.3 - x1;\n",
      "else\n",
      "  g2 := 0.5 - 0.1 * x1;\n",
      "gsys := min(g1, g2);\n",
      "12.5 - abs(x1 * x2)\n",
      " 0.1 *(x2^2 + x3^2 + x4^2 + x5^2 + x6^2 + x7^2 + x8^2 + x9^2 + x10^2 +x11^2+ x12^2+ x13^2+ x14^2+ x15^2+ x16^2+ x17^2+ x18^2+ x19^2+x20^2+x21^2+ x22^2+ x23^2+ x24^2+ x25^2+ x26^2+ x27^2+ x28^2+ x29^2+x30^2+x31^2+ x32^2+ x33^2+ x34^2+ x35^2+ x36^2+ x37^2+ x38^2+ x39^2+x40^2+x41^2+ x42^2+ x43^2+ x44^2+ x45^2+ x46^2+ x47^2+ x48^2+ x49^2+x50^2+x51^2+ x52^2+ x53^2+ x54^2+ x55^2+ x56^2+ x57^2+ x58^2+ x59^2+x60^2+x61^2+ x62^2+ x63^2+ x64^2+ x65^2+ x66^2+ x67^2+ x68^2+ x69^2+x70^2+x71^2+ x72^2+ x73^2+ x74^2+ x75^2+ x76^2+ x77^2+ x78^2+ x79^2+x80^2+x81^2+ x82^2+ x83^2+ x84^2+ x85^2+ x86^2+ x87^2+ x88^2+ x89^2+x90^2+x91^2+ x92^2+ x93^2+ x94^2+ x95^2+ x96^2+ x97^2+ x98^2+ x99^2+x100^2)-4.5 - x1\n",
      "var g1 := 0.847+0.96*x2+0.986*x3-0.216*x4+0.077*x2^2+0.11*x2^2+(7/378)*x3^2-x3*x2-0.106*x2*x4-0.11;var g2 := 84000 * x1 / sqrt(x3^2 + x4^2 - x3 * x4 + 3 * x5^2) - 1;var g3 := 84000 * x1 / abs(x4) - 1;gsys := min(g1, g2, g3)\n",
      "var g1 := x1 - x5;var g2 := x2 - x5 / 2;var g3 := x3 - x5 / 2;var g4 := x4 - x5 / 2;var g5 := x2 - x5;var g6 := x3 - x5;var g7 := x4 - x5;var g8 := min(g5, g6);var g9 := max(g7, g8);var g10 := min(g2, g3, g4);var g11 := max(g10, g9);gsys := min(g1, g11)\n",
      "if (x3 <= 5.0)\n",
      "var g1 := x1 - x2 - x3;\n",
      "else\n",
      "  g1 := x3 - x2;\n",
      "gsys := g1;\n"
     ]
    }
   ],
   "source": [
    "p8 = otb.ReliabilityProblem8()\n",
    "p14 = otb.ReliabilityProblem14()\n",
    "p22 = otb.ReliabilityProblem22()\n",
    "p24 = otb.ReliabilityProblem24()\n",
    "p25 = otb.ReliabilityProblem25()\n",
    "p28 = otb.ReliabilityProblem28()\n",
    "p31 = otb.ReliabilityProblem31()\n",
    "p33 = otb.ReliabilityProblem33()\n",
    "p35 = otb.ReliabilityProblem35()\n",
    "p38 = otb.ReliabilityProblem38()\n",
    "p53 = otb.ReliabilityProblem53()\n",
    "p55 = otb.ReliabilityProblem55()\n",
    "p57 = otb.ReliabilityProblem57()\n",
    "p75 = otb.ReliabilityProblem75()\n",
    "p89 = otb.ReliabilityProblem89()\n",
    "p107 = otb.ReliabilityProblem107()\n",
    "p110 = otb.ReliabilityProblem110()\n",
    "p111 = otb.ReliabilityProblem111()\n",
    "p63 = otb.ReliabilityProblem63()\n",
    "p91 = otb.ReliabilityProblem91()\n",
    "p60 = otb.ReliabilityProblem60()\n",
    "p77 = otb.ReliabilityProblem77()\n"
   ]
  },
  {
   "cell_type": "markdown",
   "metadata": {},
   "source": [
    "We list these problems"
   ]
  },
  {
   "cell_type": "code",
   "execution_count": 4,
   "metadata": {},
   "outputs": [
    {
     "data": {
      "text/plain": [
       "22"
      ]
     },
     "execution_count": 4,
     "metadata": {},
     "output_type": "execute_result"
    }
   ],
   "source": [
    "Liste_problem = [\n",
    "    p8,\n",
    "    p14,\n",
    "    p22,\n",
    "    p24,\n",
    "    p25,\n",
    "    p28,\n",
    "    p31,\n",
    "    p33,\n",
    "    p35,\n",
    "    p38,\n",
    "    p53,\n",
    "    p55,\n",
    "    p57,\n",
    "    p75,\n",
    "    p89,\n",
    "    p107,\n",
    "    p110,\n",
    "    p111,\n",
    "    p63,\n",
    "    p91,\n",
    "    p60,\n",
    "    p77\n",
    "]\n",
    "L = np.size(Liste_problem)\n",
    "L"
   ]
  },
  {
   "cell_type": "markdown",
   "metadata": {},
   "source": [
    "We use the following methods to solve the optimization problem \"FORM\" and \"SORM\""
   ]
  },
  {
   "cell_type": "code",
   "execution_count": null,
   "metadata": {},
   "outputs": [],
   "source": []
  },
  {
   "cell_type": "code",
   "execution_count": 5,
   "metadata": {},
   "outputs": [],
   "source": [
    "# Cobyla algorithm\n",
    "myCobyla = ot.Cobyla()\n",
    "# Resolution options:\n",
    "eps = 1e-3\n",
    "myCobyla.setMaximumEvaluationNumber(100)\n",
    "myCobyla.setMaximumAbsoluteError(eps)\n",
    "myCobyla.setMaximumRelativeError(eps)\n",
    "myCobyla.setMaximumResidualError(eps)\n",
    "myCobyla.setMaximumConstraintError(eps)\n"
   ]
  },
  {
   "cell_type": "code",
   "execution_count": 6,
   "metadata": {},
   "outputs": [],
   "source": [
    "# AbdoRackwitz algorithm\n",
    "solver = ot.AbdoRackwitz()"
   ]
  },
  {
   "cell_type": "markdown",
   "metadata": {},
   "source": [
    "# The FORM method"
   ]
  },
  {
   "cell_type": "code",
   "execution_count": 7,
   "metadata": {},
   "outputs": [],
   "source": [
    "def FORM(Problem):\n",
    "    myEvent = Problem.getEvent()\n",
    "    inputVector = myEvent.getAntecedent()\n",
    "    myDistribution = inputVector.getDistribution()\n",
    "    g = Problem.getEvent().getFunction()\n",
    "    p_exact = Problem.getProbability()\n",
    "    Name = Problem.getName()\n",
    "    algoFORM = ot.FORM(myCobyla, myEvent, myDistribution.getMean())\n",
    "    initialNumberOfCall = g.getEvaluationCallsNumber()\n",
    "    algoFORM.run()\n",
    "    resultFORM = algoFORM.getResult()\n",
    "    numberOfFunctionEvaluationsFORM = g.getEvaluationCallsNumber() - initialNumberOfCall\n",
    "    return [resultFORM, numberOfFunctionEvaluationsFORM]"
   ]
  },
  {
   "cell_type": "markdown",
   "metadata": {},
   "source": [
    "# The SORM method"
   ]
  },
  {
   "cell_type": "code",
   "execution_count": 8,
   "metadata": {},
   "outputs": [],
   "source": [
    "def SORM(Problem):\n",
    "    myEvent = Problem.getEvent()\n",
    "    inputVector = myEvent.getAntecedent()\n",
    "    myDistribution = inputVector.getDistribution()\n",
    "    g = Problem.getEvent().getFunction()\n",
    "    p_exact = Problem.getProbability()\n",
    "    Name = Problem.getName()\n",
    "    algoSORM = ot.SORM(myCobyla, myEvent, myDistribution.getMean())\n",
    "    initialNumberOfCall = g.getEvaluationCallsNumber()\n",
    "    algoSORM.run()\n",
    "    resultSORM = algoSORM.getResult()\n",
    "    numberOfFunctionEvaluationsSORM = g.getEvaluationCallsNumber() - initialNumberOfCall\n",
    "    return [resultSORM, numberOfFunctionEvaluationsSORM]"
   ]
  },
  {
   "cell_type": "markdown",
   "metadata": {},
   "source": [
    "# The MonteCarloSampling method"
   ]
  },
  {
   "cell_type": "code",
   "execution_count": 9,
   "metadata": {},
   "outputs": [],
   "source": [
    "def MonteCarloSampling(Problem, NBS, cv):\n",
    "    myEvent = Problem.getEvent()\n",
    "    inputVector = myEvent.getAntecedent()\n",
    "    myDistribution = inputVector.getDistribution()\n",
    "    g = Problem.getEvent().getFunction()\n",
    "    experiment = ot.MonteCarloExperiment()\n",
    "    myMC = ot.ProbabilitySimulationAlgorithm(myEvent, experiment)\n",
    "    \n",
    "    myMC.setMaximumOuterSampling(NBS)\n",
    "    myMC.setBlockSize(1)\n",
    "    myMC.setMaximumCoefficientOfVariation(cv)\n",
    "    initialNumberOfCall = g.getEvaluationCallsNumber()\n",
    "    myMC.run()\n",
    "    resultMC = myMC.getResult()\n",
    "    numberOfFunctionEvaluationsMonteCarlo = g.getEvaluationCallsNumber() - initialNumberOfCall\n",
    "    return [resultMC, numberOfFunctionEvaluationsMonteCarlo, myMC.drawProbabilityConvergence()]"
   ]
  },
  {
   "cell_type": "markdown",
   "metadata": {},
   "source": [
    "# The ImportanceSampling method"
   ]
  },
  {
   "cell_type": "code",
   "execution_count": 10,
   "metadata": {},
   "outputs": [],
   "source": [
    "def ImportanceSampling(Problem):\n",
    "    myEvent = Problem.getEvent()\n",
    "    inputVector = myEvent.getAntecedent()\n",
    "    myDistribution = inputVector.getDistribution()\n",
    "    g = Problem.getEvent().getFunction()\n",
    "    p_exact = Problem.getProbability()\n",
    "    Name = Problem.getName()\n",
    "    algoFORM = ot.FORM(myCobyla, myEvent, myDistribution.getMean())\n",
    "    initialNumberOfCall = g.getEvaluationCallsNumber()\n",
    "    algoFORM.run()\n",
    "    resultFORM = algoFORM.getResult()\n",
    "    standardSpaceDesignPoint = resultFORM.getStandardSpaceDesignPoint()\n",
    "    d = myDistribution.getDimension()\n",
    "    myImportance = ot.Normal(standardSpaceDesignPoint, [1.0] * d , ot.CorrelationMatrix(d))\n",
    "    experiment = ot.ImportanceSamplingExperiment(myImportance)\n",
    "    algo = ot.ProbabilitySimulationAlgorithm(ot.StandardEvent(myEvent), experiment)\n",
    "    algo.setMaximumCoefficientOfVariation(0.1)\n",
    "    algo.setMaximumOuterSampling(50000)\n",
    "    algo.setConvergenceStrategy(ot.Full())\n",
    "    algo.run()\n",
    "    resultTirage = algo.getResult()\n",
    "    graph = algo.drawProbabilityConvergence()\n",
    "    numberOfFunctionEvaluationsTirage = g.getEvaluationCallsNumber() - initialNumberOfCall\n",
    "    return [resultTirage, numberOfFunctionEvaluationsTirage, graph]    "
   ]
  },
  {
   "cell_type": "markdown",
   "metadata": {},
   "source": [
    "# The Subset method"
   ]
  },
  {
   "cell_type": "code",
   "execution_count": 11,
   "metadata": {},
   "outputs": [],
   "source": [
    "def SubsetSampling(Problem):\n",
    "    myEvent = Problem.getEvent()\n",
    "    inputVector = myEvent.getAntecedent()\n",
    "    myDistribution = inputVector.getDistribution()\n",
    "    g = Problem.getEvent().getFunction()\n",
    "    mySS = ot.SubsetSampling(myEvent)\n",
    "    mySS.setMaximumOuterSampling(1000)\n",
    "    mySS.setBlockSize(1)\n",
    "    initialNumberOfCall = g.getEvaluationCallsNumber()\n",
    "    mySS.run()\n",
    "    graph = mySS.drawProbabilityConvergence()\n",
    "    resultSS = mySS.getResult()\n",
    "    numberOfFunctionSS = g.getEvaluationCallsNumber() - initialNumberOfCall\n",
    "    return [resultSS, numberOfFunctionSS, graph]\n",
    "    "
   ]
  },
  {
   "cell_type": "markdown",
   "metadata": {},
   "source": [
    "The following function computes the number of correct base-10 digits in the computed result compared to the exact result."
   ]
  },
  {
   "cell_type": "code",
   "execution_count": 12,
   "metadata": {},
   "outputs": [],
   "source": [
    "def computeLogRelativeError(exact, computed):\n",
    "    logRelativeError = -np.log10(abs(exact - computed) / abs(exact))\n",
    "    return logRelativeError"
   ]
  },
  {
   "cell_type": "markdown",
   "metadata": {},
   "source": [
    "the `compareMethode` method takes as a parameter a problem and it returns the probabilities estimated by each method, in addition, it returns the performance of these methods"
   ]
  },
  {
   "cell_type": "code",
   "execution_count": 13,
   "metadata": {},
   "outputs": [],
   "source": [
    "def CompareMethode(Problem):\n",
    "    liste = []\n",
    "    liste1 =[]\n",
    "    print(\"La probabilité exacte \" , Problem.getProbability())\n",
    "    print(\"------------------------------------------------------------------\")\n",
    "    print(\"La probabilité estimée par la méthode SubsetSampling\" , SubsetSampling(Problem)[0].getProbabilityEstimate())\n",
    "    print(\"Le nombre d'appel à la fonction d'état limite :\", SubsetSampling(Problem)[1])\n",
    "    logRelativeError1 = computeLogRelativeError(Problem.getProbability(), SubsetSampling(Problem)[0].getProbabilityEstimate())\n",
    "    liste.append(logRelativeError1)\n",
    "    print(\"Number of correct digits=%.3f\" % (logRelativeError1))\n",
    "    performance1 = logRelativeError1/SubsetSampling(Problem)[1]\n",
    "    liste1.append(performance1)\n",
    "    print(\"Performance=%.2e (correct digits/evaluation)\" % (performance1))\n",
    "    print(\"------------------------------------------------------------------\")\n",
    "    print(\"La probabilité estimée par la méthode FORM\" ,FORM(Problem)[0].getEventProbability())\n",
    "    print(\"Le nombre d'appel à la fonction d'état limite :\", FORM(Problem)[1])\n",
    "    logRelativeError2 = computeLogRelativeError(Problem.getProbability(), FORM(Problem)[0].getEventProbability())\n",
    "    liste.append(logRelativeError2)\n",
    "    print(\"Number of correct digits=%.3f\" % (logRelativeError2))\n",
    "    performance2 = logRelativeError2/FORM(Problem)[1]\n",
    "    liste1.append(performance2)\n",
    "    print(\"Performance=%.2e (correct digits/evaluation)\" % (performance2))\n",
    "    print(\"--------------------------------------------------------------------\")\n",
    "    print(\"La probabilité estimée par la méthode SORM-Breitung\" ,SORM(Problem)[0].getEventProbabilityBreitung())\n",
    "    print(\"La probabilité estimée par la méthode SORM-HohenBichler\" ,SORM(Problem)[0].getEventProbabilityHohenBichler())\n",
    "    print(\"La probabilité estimée par la méthode SORM-Tvedt\" ,SORM(Problem)[0].getEventProbabilityTvedt())\n",
    "    print(\"Le nombre d'appel à la fonction d'état limite :\", SORM(Problem)[1])\n",
    "    logRelativeError3 = computeLogRelativeError(Problem.getProbability(), SORM(Problem)[0].getEventProbabilityBreitung())\n",
    "    liste.append(logRelativeError3)\n",
    "    print(\"Number of correct digits=%.3f\" % (logRelativeError3))\n",
    "    performance3 = logRelativeError3/FORM(Problem)[1]\n",
    "    liste1.append(performance3)\n",
    "    print(\"Performance=%.2e (correct digits/evaluation)\" % (performance3))\n",
    "    print(\"---------------------------------------------------------------------\")\n",
    "    print(\"La probabilité estimée par ImportanceSampling\" , ImportanceSampling(Problem)[0].getProbabilityEstimate())\n",
    "    print(\"Le nombre d'appel à la fonction d'état limite :\", ImportanceSampling(Problem)[1])\n",
    "    logRelativeError4 = computeLogRelativeError(Problem.getProbability(), ImportanceSampling(Problem)[0].getProbabilityEstimate())\n",
    "    liste.append(logRelativeError4)\n",
    "    print(\"Number of correct digits=%.3f\" % (logRelativeError4))\n",
    "    performance4 = logRelativeError4/ImportanceSampling(Problem)[1]\n",
    "    liste1.append(performance4)\n",
    "    print(\"Performance=%.2e (correct digits/evaluation)\" % (performance4))\n",
    "    print(\"----------------------------------------------------------------------\")\n",
    "    print(\"La probabilité estimée par MonteCarloSampling \", MonteCarloSampling(Problem, 10000, 0.01)[0].getProbabilityEstimate())\n",
    "    print(\"Le nombre d'appel à la fonction d'état limite :\", MonteCarloSampling(Problem, 10000, 0.01)[1])\n",
    "    x = MonteCarloSampling(Problem, 10000, 0.01)[0].getProbabilityEstimate()\n",
    "    logRelativeError5 = computeLogRelativeError(Problem.getProbability(), x)\n",
    "    liste.append(logRelativeError5)\n",
    "    print(\"Number of correct digits=%.3f\" % (logRelativeError5))\n",
    "    performance5 = logRelativeError5/MonteCarloSampling(Problem, 10000, 0.01)[1]\n",
    "    liste1.append(performance5)\n",
    "    print(\"Performance=%.2e (correct digits/evaluation)\" % (performance5))\n",
    "    liste.sort()\n",
    "    liste1.sort()\n",
    "    print(\"------------------------------------------------------------------------\")\n",
    "    print(\"---Classement méthode par (Nombre de chiffres corrects)------\")\n",
    "    print(\"------------------------------------------------------------------------\")\n",
    "    print(\"Classement de la méthode SubsetSampling : \", 5-liste.index(logRelativeError1))\n",
    "    print(\"Classement de la méthode FORM : \", 5-liste.index(logRelativeError2))\n",
    "    print(\"Classement de la méthode SORM : \", 5-liste.index(logRelativeError3))\n",
    "    print(\"Classement de la méthode ImportanceSampling: \", 5-liste.index(logRelativeError4))\n",
    "    print(\"Classement de la méthode MonteCarloSampling : \", 5-liste.index(logRelativeError5))\n",
    "    print(\"------------------------------------------------------------------------\")\n",
    "    print(\"-------------------Classement méthode par Performance-------------------\")\n",
    "    print(\"------------------------------------------------------------------------\")\n",
    "    print(\"Classement de la méthode SubsetSampling : \", 5-liste1.index(performance1))\n",
    "    print(\"Classement de la méthode FORM : \", 5-liste1.index(performance2))\n",
    "    print(\"Classement de la méthode SORM : \", 5-liste1.index(performance3))\n",
    "    print(\"Classement de la méthode ImportanceSampling: \", 5-liste1.index(performance4))\n",
    "    print(\"Classement de la méthode MonteCarloSampling : \", 5-liste1.index(performance5))\n",
    "    \n",
    "    "
   ]
  },
  {
   "cell_type": "code",
   "execution_count": 14,
   "metadata": {},
   "outputs": [
    {
     "name": "stdout",
     "output_type": "stream",
     "text": [
      "La probabilité exacte  0.00416\n",
      "------------------------------------------------------------------\n",
      "La probabilité estimée par la méthode SubsetSampling 0.0045600000000000016\n",
      "Le nombre d'appel à la fonction d'état limite : 3000\n",
      "Number of correct digits=0.623\n",
      "Performance=2.08e-04 (correct digits/evaluation)\n",
      "------------------------------------------------------------------\n",
      "La probabilité estimée par la méthode FORM 0.006227203948307702\n",
      "Le nombre d'appel à la fonction d'état limite : 53\n",
      "Number of correct digits=0.304\n",
      "Performance=5.73e-03 (correct digits/evaluation)\n",
      "--------------------------------------------------------------------\n",
      "La probabilité estimée par la méthode SORM-Breitung 0.004403739359737042\n",
      "La probabilité estimée par la méthode SORM-HohenBichler 0.004268079817563768\n",
      "La probabilité estimée par la méthode SORM-Tvedt 0.004207310668799075\n",
      "Le nombre d'appel à la fonction d'état limite : 53\n",
      "Number of correct digits=1.232\n",
      "Performance=2.32e-02 (correct digits/evaluation)\n",
      "---------------------------------------------------------------------\n",
      "La probabilité estimée par ImportanceSampling 0.0037715518836850133\n",
      "Le nombre d'appel à la fonction d'état limite : 427\n",
      "Number of correct digits=1.805\n",
      "Performance=4.40e-03 (correct digits/evaluation)\n",
      "----------------------------------------------------------------------\n",
      "La probabilité estimée par MonteCarloSampling  0.0031999999999999984\n",
      "Le nombre d'appel à la fonction d'état limite : 10000\n",
      "Number of correct digits=0.813\n",
      "Performance=8.13e-05 (correct digits/evaluation)\n",
      "------------------------------------------------------------------------\n",
      "---Classement méthode par (Nombre de chiffres corrects)------\n",
      "------------------------------------------------------------------------\n",
      "Classement de la méthode SubsetSampling :  4\n",
      "Classement de la méthode FORM :  5\n",
      "Classement de la méthode SORM :  2\n",
      "Classement de la méthode ImportanceSampling:  1\n",
      "Classement de la méthode MonteCarloSampling :  3\n",
      "------------------------------------------------------------------------\n",
      "-------------------Classement méthode par Performance-------------------\n",
      "------------------------------------------------------------------------\n",
      "Classement de la méthode SubsetSampling :  4\n",
      "Classement de la méthode FORM :  2\n",
      "Classement de la méthode SORM :  1\n",
      "Classement de la méthode ImportanceSampling:  3\n",
      "Classement de la méthode MonteCarloSampling :  5\n"
     ]
    }
   ],
   "source": [
    "CompareMethode(p22)"
   ]
  },
  {
   "cell_type": "markdown",
   "metadata": {},
   "source": [
    "we can also show the convergence graphs ( for example Problem57)"
   ]
  },
  {
   "cell_type": "code",
   "execution_count": 15,
   "metadata": {},
   "outputs": [
    {
     "data": {
      "image/png": "[encoded data removed]",
      "text/plain": [
       "<Figure size 1008x360 with 2 Axes>"
      ]
     },
     "metadata": {
      "needs_background": "light"
     },
     "output_type": "display_data"
    }
   ],
   "source": [
    "graph1 = MonteCarloSampling(p57, 10000, 0.1)[2]\n",
    "\n",
    "\n",
    "graph2 = ImportanceSampling(p57)[2]\n",
    "\n",
    "\n",
    "fig = pl.figure(figsize=(14, 5))\n",
    "ax_1 = fig.add_subplot(1, 2, 1)\n",
    "_ = otv.View(graph1, figure=fig, axes=[ax_1])\n",
    "ax_2 = fig.add_subplot(1, 2, 2)\n",
    "_ = otv.View(graph2, figure=fig, axes=[ax_2])\n",
    "_ = fig.suptitle(\"MonteCarloSamlping convergence graph && ImportanceSampling convergence graph\")\n"
   ]
  },
  {
   "cell_type": "code",
   "execution_count": null,
   "metadata": {},
   "outputs": [],
   "source": []
  }
 ],
 "metadata": {
  "kernelspec": {
   "display_name": "Python 3",
   "language": "python",
   "name": "python3"
  },
  "language_info": {
   "codemirror_mode": {
    "name": "ipython",
    "version": 3
   },
   "file_extension": ".py",
   "mimetype": "text/x-python",
   "name": "python",
   "nbconvert_exporter": "python",
   "pygments_lexer": "ipython3",
   "version": "3.7.4"
  }
 },
 "nbformat": 4,
 "nbformat_minor": 2
}
