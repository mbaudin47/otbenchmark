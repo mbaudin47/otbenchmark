{
 "cells": [
  {
   "cell_type": "markdown",
   "metadata": {},
   "source": [
    "# RP24 analysis and 2D graphics\n",
    "\n",
    "\n",
    "The objective of this example is to present problem 24 of the BBRC. We also present graphic elements for the visualization of the limit state surface in 2 dimensions."
   ]
  },
  {
   "cell_type": "code",
   "execution_count": null,
   "metadata": {},
   "outputs": [],
   "source": [
    "import openturns as ot\n",
    "import numpy as np\n",
    "import otbenchmark as otb"
   ]
  },
  {
   "cell_type": "code",
   "execution_count": null,
   "metadata": {},
   "outputs": [],
   "source": [
    "problem = otb.ReliabilityProblem24()"
   ]
  },
  {
   "cell_type": "code",
   "execution_count": null,
   "metadata": {},
   "outputs": [],
   "source": [
    "print(problem)"
   ]
  },
  {
   "cell_type": "code",
   "execution_count": null,
   "metadata": {},
   "outputs": [],
   "source": [
    "event = problem.getEvent()\n",
    "g = event.getFunction()"
   ]
  },
  {
   "cell_type": "code",
   "execution_count": null,
   "metadata": {},
   "outputs": [],
   "source": [
    "problem.getProbability()"
   ]
  },
  {
   "cell_type": "code",
   "execution_count": null,
   "metadata": {},
   "outputs": [],
   "source": [
    "# Create the Monte-Carlo algorithm\n",
    "algoProb = ot.ProbabilitySimulationAlgorithm(event)\n",
    "algoProb.setMaximumOuterSampling(1000)\n",
    "algoProb.setMaximumCoefficientOfVariation(0.01)\n",
    "algoProb.run()"
   ]
  },
  {
   "cell_type": "code",
   "execution_count": null,
   "metadata": {},
   "outputs": [],
   "source": [
    "# Get the results\n",
    "resultAlgo = algoProb.getResult()\n",
    "neval = g.getEvaluationCallsNumber()\n",
    "print(\"Number of function calls = %d\" %(neval))\n",
    "pf = resultAlgo.getProbabilityEstimate()\n",
    "print(\"Failure Probability = %.4f\" % (pf))\n",
    "level = 0.95\n",
    "c95 = resultAlgo.getConfidenceLength(level)\n",
    "pmin=pf-0.5*c95\n",
    "pmax=pf+0.5*c95\n",
    "print(\"%.1f %% confidence interval :[%.4f,%.4f] \" % (level*100,pmin,pmax))"
   ]
  },
  {
   "cell_type": "markdown",
   "metadata": {},
   "source": [
    "## Compute the bounds of the domain"
   ]
  },
  {
   "cell_type": "code",
   "execution_count": null,
   "metadata": {},
   "outputs": [],
   "source": [
    "inputVector = event.getAntecedent()\n",
    "distribution = inputVector.getDistribution()\n",
    "X1 = distribution.getMarginal(0)\n",
    "X2 = distribution.getMarginal(1)\n",
    "alphaMin = 0.00001\n",
    "alphaMax = 1 - alphaMin\n",
    "lowerBound = ot.Point([X1.computeQuantile(alphaMin)[0], X2.computeQuantile(alphaMin)[0]])\n",
    "upperBound = ot.Point([X1.computeQuantile(alphaMax)[0], X2.computeQuantile(alphaMax)[0]])"
   ]
  },
  {
   "cell_type": "code",
   "execution_count": null,
   "metadata": {},
   "outputs": [],
   "source": [
    "nbPoints = [100, 100]\n",
    "figure = g.draw(lowerBound, upperBound, nbPoints)\n",
    "figure.setTitle(\" Iso-values of limit state function\")\n",
    "figure"
   ]
  },
  {
   "cell_type": "markdown",
   "metadata": {},
   "source": [
    "## Print the iso-values of the distribution"
   ]
  },
  {
   "cell_type": "code",
   "execution_count": null,
   "metadata": {},
   "outputs": [],
   "source": [
    "distribution.drawPDF()"
   ]
  },
  {
   "cell_type": "code",
   "execution_count": null,
   "metadata": {},
   "outputs": [],
   "source": [
    "sampleSize = 5000\n",
    "sampleInput = inputVector.getSample(sampleSize)\n",
    "sampleOutput = g(sampleInput)\n",
    "drawEvent = otb.DrawEvent(event)\n"
   ]
  },
  {
   "cell_type": "code",
   "execution_count": null,
   "metadata": {},
   "outputs": [],
   "source": [
    "cloud = drawEvent.drawSample(sampleInput, sampleOutput)\n",
    "cloud"
   ]
  },
  {
   "cell_type": "markdown",
   "metadata": {},
   "source": [
    "## Draw the limit state surface"
   ]
  },
  {
   "cell_type": "code",
   "execution_count": null,
   "metadata": {},
   "outputs": [],
   "source": [
    "bounds = ot.Interval(lowerBound, upperBound)\n",
    "bounds"
   ]
  },
  {
   "cell_type": "code",
   "execution_count": null,
   "metadata": {},
   "outputs": [],
   "source": [
    "nX = 100\n",
    "nY = 100\n",
    "graph = drawEvent.drawLimitState(bounds, nX, nY)\n",
    "graph.add(cloud)\n",
    "graph"
   ]
  },
  {
   "cell_type": "code",
   "execution_count": null,
   "metadata": {},
   "outputs": [],
   "source": [
    "domain = drawEvent.fillEvent(bounds)\n",
    "domain"
   ]
  },
  {
   "cell_type": "code",
   "execution_count": null,
   "metadata": {
    "scrolled": true
   },
   "outputs": [],
   "source": [
    "domain.add(cloud)\n",
    "domain"
   ]
  },
  {
   "cell_type": "code",
   "execution_count": null,
   "metadata": {},
   "outputs": [],
   "source": []
  }
 ],
 "metadata": {
  "kernelspec": {
   "display_name": "Python 3",
   "language": "python",
   "name": "python3"
  },
  "language_info": {
   "codemirror_mode": {
    "name": "ipython",
    "version": 3
   },
   "file_extension": ".py",
   "mimetype": "text/x-python",
   "name": "python",
   "nbconvert_exporter": "python",
   "pygments_lexer": "ipython3",
   "version": "3.7.4"
  }
 },
 "nbformat": 4,
 "nbformat_minor": 2
}
