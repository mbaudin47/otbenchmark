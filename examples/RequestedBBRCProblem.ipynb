{
 "cells": [
  {
   "cell_type": "markdown",
   "metadata": {},
   "source": [
    "# Analyse du cas R-S et graphiques 2D\n",
    "\n",
    "L'objectif de cet exemple est de présenter le cas R-S. Nous présentons également des éléments graphiques pour la visualisation de la surface d'état limite en 2 dimensions."
   ]
  },
  {
   "cell_type": "code",
   "execution_count": 1,
   "metadata": {},
   "outputs": [],
   "source": [
    "import openturns as ot\n",
    "import otbenchmark as otb"
   ]
  },
  {
   "cell_type": "code",
   "execution_count": 2,
   "metadata": {},
   "outputs": [],
   "source": [
    "problem = otb.RequestedBBRCProblem('testuser', 'testpass', -1, 1)"
   ]
  },
  {
   "cell_type": "code",
   "execution_count": 3,
   "metadata": {},
   "outputs": [],
   "source": [
    "event = problem.getEvent()\n",
    "g = event.getFunction()"
   ]
  },
  {
   "cell_type": "code",
   "execution_count": 4,
   "metadata": {},
   "outputs": [
    {
     "output_type": "execute_result",
     "data": {
      "text/plain": "0.0007888456943755395"
     },
     "metadata": {},
     "execution_count": 4
    }
   ],
   "source": [
    "problem.getProbability()"
   ]
  },
  {
   "cell_type": "code",
   "execution_count": 6,
   "metadata": {},
   "outputs": [
    {
     "output_type": "stream",
     "name": "stdout",
     "text": "[297.2499694824219]\n[218.2695770263672]\n[200.97616577148438]\n[180.061279296875]\n[242.46978759765625]\n[215.73358154296875]\n[288.48529052734375]\n[331.47735595703125]\n[220.18215942382812]\n[377.397705078125]\n[284.7091979980469]\n[198.75686645507812]\n[221.52423095703125]\n[282.73345947265625]\n[336.52325439453125]\n[326.8697204589844]\n[330.7781982421875]\n[196.94180297851562]\n[385.6677551269531]\n[396.2601623535156]\n[196.18479919433594]\n[299.7452392578125]\n[282.44427490234375]\n[168.36343383789062]\n[389.99871826171875]\n[358.03045654296875]\n[144.5692138671875]\n[255.44900512695312]\n[370.4793701171875]\n[84.9371337890625]\n[238.3543701171875]\n[129.785400390625]\n[196.7244415283203]\n[264.5404052734375]\n[173.18212890625]\n[392.9873046875]\n[185.55714416503906]\n[368.53466796875]\n[283.3665771484375]\n[144.22177124023438]\n[381.55438232421875]\n[381.034423828125]\n[342.9972229003906]\n[266.3590087890625]\n[334.29052734375]\n[117.27037048339844]\n[277.16375732421875]\n[285.12384033203125]\n[362.5998840332031]\n[315.274169921875]\n[247.87791442871094]\n[409.65234375]\n[287.66363525390625]\n[336.37750244140625]\n[394.1182861328125]\n[389.5303955078125]\n[481.17462158203125]\n[290.0679626464844]\n[283.8186950683594]\n[250.89947509765625]\n[302.2703857421875]\n[299.8824462890625]\n[336.5767822265625]\n[186.9788818359375]\n[423.787353515625]\n[262.724609375]\n[274.6841735839844]\n[241.7208709716797]\n[463.33355712890625]\n[322.99566650390625]\n[218.93588256835938]\n[369.7957763671875]\n[429.9096984863281]\n[319.9188232421875]\n[299.20611572265625]\n[257.9948425292969]\n[228.3815460205078]\n[312.2850036621094]\n[370.79949951171875]\n[370.82745361328125]\n[202.61672973632812]\n[361.8753356933594]\n[302.4346923828125]\n[360.74285888671875]\n[300.1701965332031]\n[374.0533447265625]\n[261.635498046875]\n[252.62332153320312]\n[196.39459228515625]\n[382.73199462890625]\n[313.4749755859375]\n[269.0610046386719]\n[296.79644775390625]\n[240.33221435546875]\n[290.20263671875]\n[385.6502685546875]\n[362.41717529296875]\n[290.8677062988281]\n[383.0160217285156]\n[283.0025634765625]\n"
    }
   ],
   "source": [
    "# Create the Monte-Carlo algorithm\n",
    "algoProb = ot.ProbabilitySimulationAlgorithm(event)\n",
    "algoProb.setMaximumOuterSampling(100)\n",
    "algoProb.setMaximumCoefficientOfVariation(0.01)\n",
    "algoProb.run()"
   ]
  },
  {
   "cell_type": "code",
   "execution_count": null,
   "metadata": {},
   "outputs": [],
   "source": []
  }
 ],
 "metadata": {
  "kernelspec": {
   "display_name": "python3_cours",
   "language": "python",
   "name": "cours_micka"
  },
  "language_info": {
   "codemirror_mode": {
    "name": "ipython",
    "version": 3
   },
   "file_extension": ".py",
   "mimetype": "text/x-python",
   "name": "python",
   "nbconvert_exporter": "python",
   "pygments_lexer": "ipython3",
   "version": "3.7.6-final"
  }
 },
 "nbformat": 4,
 "nbformat_minor": 2
}