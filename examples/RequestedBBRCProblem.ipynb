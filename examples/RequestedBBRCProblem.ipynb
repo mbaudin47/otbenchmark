{
 "cells": [
  {
   "cell_type": "markdown",
   "metadata": {},
   "source": [
    "# RequestedBBRCProblem class use case\n",
    "\n",
    "This example presents a simple use of the RequestedBBRCProblem class."
   ]
  },
  {
   "cell_type": "code",
   "execution_count": 1,
   "metadata": {},
   "outputs": [],
   "source": [
    "import openturns as ot\n",
    "import otbenchmark as otb"
   ]
  },
  {
   "cell_type": "code",
   "execution_count": 2,
   "metadata": {},
   "outputs": [
    {
     "output_type": "stream",
     "name": "stdout",
     "text": "RP8\n"
    }
   ],
   "source": [
    "problem = otb.RequestedBBRCProblem(\"testuser\", \"testpass\", -1, 1)\n",
    "print(problem.name)"
   ]
  },
  {
   "cell_type": "code",
   "execution_count": 3,
   "metadata": {},
   "outputs": [],
   "source": [
    "event = problem.getEvent()\n",
    "g = event.getFunction()"
   ]
  },
  {
   "cell_type": "code",
   "execution_count": 4,
   "metadata": {},
   "outputs": [
    {
     "output_type": "execute_result",
     "data": {
      "text/plain": "0.0007888456943755395"
     },
     "metadata": {},
     "execution_count": 4
    }
   ],
   "source": [
    "problem.getProbability()"
   ]
  },
  {
   "cell_type": "code",
   "execution_count": 5,
   "metadata": {},
   "outputs": [],
   "source": [
    "# Create the Monte-Carlo algorithm\n",
    "algoProb = ot.ProbabilitySimulationAlgorithm(event)\n",
    "# MaximumOuterSampling set to a very low value to make a fast example.\n",
    "# More realistic parameter value (e.g. 1000).\n",
    "algoProb.setMaximumOuterSampling(10)\n",
    "algoProb.setMaximumCoefficientOfVariation(0.01)\n",
    "algoProb.run()"
   ]
  },
  {
   "cell_type": "code",
   "execution_count": 6,
   "metadata": {},
   "outputs": [
    {
     "output_type": "stream",
     "name": "stdout",
     "text": "Number of function calls = 10\nFailure Probability = 0.0000\n"
    }
   ],
   "source": [
    "# Get the results\n",
    "resultAlgo = algoProb.getResult()\n",
    "neval = g.getEvaluationCallsNumber()\n",
    "print(\"Number of function calls = %d\" % (neval))\n",
    "# Because of the low value of the maximumOuterSampling, the estimate is not very accurate.\n",
    "pf = resultAlgo.getProbabilityEstimate()\n",
    "print(\"Failure Probability = %.4f\" % (pf))"
   ]
  }
 ],
 "metadata": {
  "kernelspec": {
   "display_name": "Python 3",
   "language": "python",
   "name": "python3"
  },
  "language_info": {
   "codemirror_mode": {
    "name": "ipython",
    "version": 3
   },
   "file_extension": ".py",
   "mimetype": "text/x-python",
   "name": "python",
   "nbconvert_exporter": "python",
   "pygments_lexer": "ipython3",
   "version": "3.7.3-final"
  }
 },
 "nbformat": 4,
 "nbformat_minor": 2
}